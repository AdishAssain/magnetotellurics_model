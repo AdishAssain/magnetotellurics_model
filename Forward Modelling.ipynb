{
 "cells": [
  {
   "cell_type": "markdown",
   "metadata": {},
   "source": [
    "## Forward Modelling  : Magnetotellurics"
   ]
  },
  {
   "cell_type": "code",
   "execution_count": 7,
   "metadata": {},
   "outputs": [],
   "source": [
    "import math\n",
    "import cmath\n",
    "import numpy as np"
   ]
  },
  {
   "cell_type": "code",
   "execution_count": 11,
   "metadata": {},
   "outputs": [],
   "source": [
    "mu = 4*math.pi*1E-7 # Magnetic Permeability\n",
    "n=3 # Number of layers\n",
    "thicknesses = [2000,8000]\n",
    "frequencies = [0.0001,0.001,0.01,0.1,1,10,100,1000,10000]\n",
    "resistivities=[100,10,1000]"
   ]
  },
  {
   "cell_type": "code",
   "execution_count": 13,
   "metadata": {},
   "outputs": [],
   "source": [
    "# Forward modelling operator\n",
    "# Input : resistivities ,,, Output : Wave impedence at top of layered model\n",
    "\n",
    "def f(resistivities):\n",
    "    data=[]\n",
    "    for frequency in frequencies:\n",
    "        w =  2*math.pi*frequency\n",
    "        impedances = [1]*n\n",
    "        impedances[n-1] = cmath.sqrt(w*mu*resistivities[n-1]*1j) # Zn (halfspace)\n",
    "        for j in range(n-2,-1,-1):\n",
    "            resistivity = resistivities[j]\n",
    "            thickness = thicknesses[j]\n",
    "            kj = cmath.sqrt((w * mu * (1/resistivity))*1j)       # wave number\n",
    "            Ij = kj * resistivity                             # intrinsic impedance\n",
    "            ej = cmath.exp(-2*thickness*kj)                   # exponential factor\n",
    "            Zb = impedances[j + 1]               # impedance of bottom layer\n",
    "            rj = (Ij - Zb)/(Ij + Zb)            # reflection coefficient\n",
    "            re = rj*ej\n",
    "            Zj = Ij * ((1 - re)/(1 + re))      # j-th impedance\n",
    "            impedances[j] = Zj\n",
    "        Z = impedances[0]                      # impedance at top\n",
    "        apparentresistivity = (abs(Z) * abs(Z))/(mu*w)\n",
    "        phase = math.atan2(Z.imag, Z.real)\n",
    "        data.append([frequency,apparentresistivity,phase])\n",
    "    return np.array(data)"
   ]
  },
  {
   "cell_type": "code",
   "execution_count": 14,
   "metadata": {},
   "outputs": [
    {
     "data": {
      "text/plain": [
       "array([[1.00000000e-04, 3.95090941e+02, 4.65720208e-01],\n",
       "       [1.00000000e-03, 1.08307061e+02, 2.73809295e-01],\n",
       "       [1.00000000e-02, 1.90956667e+01, 3.93114257e-01],\n",
       "       [1.00000000e-01, 1.80079067e+01, 1.03781962e+00],\n",
       "       [1.00000000e+00, 5.24894007e+01, 1.12605792e+00],\n",
       "       [1.00000000e+01, 1.14584695e+02, 8.34913825e-01],\n",
       "       [1.00000000e+02, 1.00006872e+02, 7.85763819e-01],\n",
       "       [1.00000000e+03, 1.00000000e+02, 7.85398163e-01],\n",
       "       [1.00000000e+04, 1.00000000e+02, 7.85398163e-01]])"
      ]
     },
     "execution_count": 14,
     "metadata": {},
     "output_type": "execute_result"
    }
   ],
   "source": [
    "f(resistivities)"
   ]
  },
  {
   "cell_type": "code",
   "execution_count": null,
   "metadata": {},
   "outputs": [],
   "source": []
  }
 ],
 "metadata": {
  "kernelspec": {
   "display_name": "Python 3",
   "language": "python",
   "name": "python3"
  },
  "language_info": {
   "codemirror_mode": {
    "name": "ipython",
    "version": 3
   },
   "file_extension": ".py",
   "mimetype": "text/x-python",
   "name": "python",
   "nbconvert_exporter": "python",
   "pygments_lexer": "ipython3",
   "version": "3.7.7"
  }
 },
 "nbformat": 4,
 "nbformat_minor": 4
}
